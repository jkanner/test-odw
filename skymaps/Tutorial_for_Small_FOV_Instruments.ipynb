{
 "cells": [
  {
   "cell_type": "markdown",
   "metadata": {},
   "source": [
    "# Tutorial for Small FOV Instruments\n",
    "\n",
    "In this tutorial we combine our skymaps with galaxy catalogs to get a list of galaxies for individual pointings. A note is made that this is only possible with 3D skymaps which are provided for combact binary merger candidate events."
   ]
  },
  {
   "cell_type": "markdown",
   "metadata": {},
   "source": [
    "We begin by importing the necessary packages as done previously. We will also download the 2MASS Redshift Survey galaxy catalog using VizieR."
   ]
  },
  {
   "cell_type": "code",
   "execution_count": 1,
   "metadata": {
    "collapsed": true
   },
   "outputs": [],
   "source": [
    "import healpy as hp # for working with HEALPix files\n",
    "import numpy as np # needed for vector operations\n",
    "from matplotlib import pyplot as plt # plotting skymaps\n",
    "from scipy.stats import norm # probability functions"
   ]
  },
  {
   "cell_type": "code",
   "execution_count": 2,
   "metadata": {
    "collapsed": true
   },
   "outputs": [],
   "source": [
    "from astropy.utils.data import download_file\n",
    "url = ('https://dcc.ligo.org/public/0146/G1701985/001/LALInference_v2.fits.gz')\n",
    "# This is the publication LALInference localization\n",
    "filename = download_file(url, cache=True)"
   ]
  },
  {
   "cell_type": "markdown",
   "metadata": {},
   "source": [
    "We read in the probability, distmu, distsigma, and distnorm."
   ]
  },
  {
   "cell_type": "code",
   "execution_count": 5,
   "metadata": {},
   "outputs": [
    {
     "name": "stdout",
     "output_type": "stream",
     "text": [
      "NSIDE = 1024\n",
      "ORDERING = NESTED in fits file\n",
      "INDXSCHM = IMPLICIT\n",
      "Ordering converted to RING\n",
      "Ordering converted to RING\n",
      "Ordering converted to RING\n",
      "Ordering converted to RING\n"
     ]
    }
   ],
   "source": [
    "prob, distmu, distsigma, distnorm = hp.read_map(filename, field=range(4))"
   ]
  },
  {
   "cell_type": "code",
   "execution_count": 6,
   "metadata": {},
   "outputs": [
    {
     "name": "stdout",
     "output_type": "stream",
     "text": [
      "(12582912, 1024)\n"
     ]
    }
   ],
   "source": [
    "npix = len(prob)\n",
    "nside = hp.npix2nside(npix)\n",
    "print(npix, nside)"
   ]
  },
  {
   "cell_type": "code",
   "execution_count": 14,
   "metadata": {
    "collapsed": true
   },
   "outputs": [],
   "source": [
    "# Area per pixel in steradians\n",
    "pixarea = hp.nside2pixarea(nside)"
   ]
  },
  {
   "cell_type": "code",
   "execution_count": 7,
   "metadata": {},
   "outputs": [],
   "source": [
    "from astroquery.vizier import Vizier\n",
    "Vizier.ROW_LIMI = -1\n",
    "cat, = Vizier.get_catalogs('J/ApJS/199/26/table3') # Downloading the 2MRS Galaxy Catalog"
   ]
  },
  {
   "cell_type": "markdown",
   "metadata": {},
   "source": [
    "According to Tully(2015), the 2MRS luminosity function is well fit by a Schechter function with a cutoff absolute magnitude of $M_k^* = -23.55$ and a power-law index of $\\alpha_K = -1$. We find the maximum absolute magnitude $M_k^{\\text{max}}$ for a completeness fraction of 0.5."
   ]
  },
  {
   "cell_type": "code",
   "execution_count": 35,
   "metadata": {},
   "outputs": [
    {
     "data": {
      "text/plain": [
       "-23.947936347387156"
      ]
     },
     "execution_count": 35,
     "metadata": {},
     "output_type": "execute_result"
    }
   ],
   "source": [
    "from scipy.special import gammaincinv\n",
    "completeness = 0.5\n",
    "alpha = -1.0\n",
    "MK_star = -23.55\n",
    "MK_max = MK_star + 2.5*np.log10(gammaincinv(alpha + 2, completeness))\n",
    "MK_max"
   ]
  },
  {
   "cell_type": "markdown",
   "metadata": {},
   "source": [
    "Now, we select only galaxies with positive redshifts and absolute magnitudes greater than $M_k^{\\text{max}}$."
   ]
  },
  {
   "cell_type": "code",
   "execution_count": 36,
   "metadata": {
    "collapsed": true
   },
   "outputs": [],
   "source": [
    "from astropy.cosmology import WMAP9 as cosmo\n",
    "from astropy.table import Column\n",
    "import astropy.units as u\n",
    "import astropy.constants as c\n",
    "z = (u.Quantity(cat['cz'])/c.c).to(u.dimensionless_unscaled)\n",
    "MK = cat['Ktmag']-cosmo.distmod(z)\n",
    "keep = (z > 0) & (MK < MK_max)\n",
    "cat = cat[keep]\n",
    "z = z[keep]"
   ]
  },
  {
   "cell_type": "markdown",
   "metadata": {},
   "source": [
    "Now, we calculate the luminosity distance and HEALPix index of each galaxy."
   ]
  },
  {
   "cell_type": "code",
   "execution_count": 37,
   "metadata": {},
   "outputs": [],
   "source": [
    "r = cosmo.luminosity_distance(z).to('Mpc').value\n",
    "theta = 0.5*np.pi - cat['DEJ2000'].to('rad').value\n",
    "phi = cat['RAJ2000'].to('rad').value\n",
    "ipix = hp.ang2pix(nside, theta, phi)"
   ]
  },
  {
   "cell_type": "markdown",
   "metadata": {},
   "source": [
    "We find the probability density per unit volume at the position of each galaxy."
   ]
  },
  {
   "cell_type": "code",
   "execution_count": 38,
   "metadata": {
    "collapsed": true
   },
   "outputs": [],
   "source": [
    "dp_dV = prob[ipix] * distnorm[ipix] * norm(distmu[ipix], distsigma[ipix]).pdf(r)/pixarea"
   ]
  },
  {
   "cell_type": "markdown",
   "metadata": {},
   "source": [
    "Finally, we sort the galaxies by descending probability density and take the top 50."
   ]
  },
  {
   "cell_type": "code",
   "execution_count": 39,
   "metadata": {},
   "outputs": [
    {
     "data": {
      "text/html": [
       "&lt;Table masked=True length=28&gt;\n",
       "<table id=\"table140216249856720\" class=\"table-striped table-bordered table-condensed\">\n",
       "<thead><tr><th>RAJ2000</th><th>DEJ2000</th><th>Ktmag</th></tr></thead>\n",
       "<thead><tr><th>deg</th><th>deg</th><th>mag</th></tr></thead>\n",
       "<thead><tr><th>float64</th><th>float64</th><th>float32</th></tr></thead>\n",
       "<tr><td>189.99789</td><td>-11.62307</td><td>4.944</td></tr>\n",
       "<tr><td>201.36565</td><td>-43.01871</td><td>3.901</td></tr>\n",
       "<tr><td>204.25383</td><td>-29.86576</td><td>4.595</td></tr>\n",
       "<tr><td>187.44499</td><td>8.00041</td><td>5.388</td></tr>\n",
       "<tr><td>186.35022</td><td>18.19108</td><td>6.134</td></tr>\n",
       "<tr><td>186.26575</td><td>12.88696</td><td>6.208</td></tr>\n",
       "<tr><td>187.70593</td><td>12.39110</td><td>5.804</td></tr>\n",
       "<tr><td>190.91670</td><td>11.55261</td><td>5.730</td></tr>\n",
       "<tr><td>11.88806</td><td>-25.28880</td><td>3.765</td></tr>\n",
       "<tr><td>...</td><td>...</td><td>...</td></tr>\n",
       "<tr><td>161.69060</td><td>11.81994</td><td>6.311</td></tr>\n",
       "<tr><td>166.45247</td><td>-0.03590</td><td>5.763</td></tr>\n",
       "<tr><td>151.30824</td><td>-7.71858</td><td>5.867</td></tr>\n",
       "<tr><td>339.26709</td><td>34.41592</td><td>5.996</td></tr>\n",
       "<tr><td>169.73315</td><td>13.09221</td><td>6.057</td></tr>\n",
       "<tr><td>170.07091</td><td>13.58949</td><td>6.064</td></tr>\n",
       "<tr><td>145.63867</td><td>-3.69914</td><td>6.236</td></tr>\n",
       "<tr><td>64.04361</td><td>-55.78014</td><td>6.276</td></tr>\n",
       "<tr><td>161.95667</td><td>12.58163</td><td>6.261</td></tr>\n",
       "<tr><td>170.06261</td><td>12.99129</td><td>5.869</td></tr>\n",
       "</table>"
      ],
      "text/plain": [
       "<Table masked=True length=28>\n",
       " RAJ2000   DEJ2000   Ktmag \n",
       "   deg       deg      mag  \n",
       " float64   float64  float32\n",
       "--------- --------- -------\n",
       "189.99789 -11.62307   4.944\n",
       "201.36565 -43.01871   3.901\n",
       "204.25383 -29.86576   4.595\n",
       "187.44499   8.00041   5.388\n",
       "186.35022  18.19108   6.134\n",
       "186.26575  12.88696   6.208\n",
       "187.70593  12.39110   5.804\n",
       "190.91670  11.55261   5.730\n",
       " 11.88806 -25.28880   3.765\n",
       "      ...       ...     ...\n",
       "161.69060  11.81994   6.311\n",
       "166.45247  -0.03590   5.763\n",
       "151.30824  -7.71858   5.867\n",
       "339.26709  34.41592   5.996\n",
       "169.73315  13.09221   6.057\n",
       "170.07091  13.58949   6.064\n",
       "145.63867  -3.69914   6.236\n",
       " 64.04361 -55.78014   6.276\n",
       "161.95667  12.58163   6.261\n",
       "170.06261  12.99129   5.869"
      ]
     },
     "execution_count": 39,
     "metadata": {},
     "output_type": "execute_result"
    }
   ],
   "source": [
    "top50 = cat[np.flipud(np.argsort(dp_dV))][:50]\n",
    "top50['RAJ2000', 'DEJ2000', 'Ktmag']"
   ]
  }
 ],
 "metadata": {
  "kernelspec": {
   "display_name": "Python 2",
   "language": "python",
   "name": "python2"
  },
  "language_info": {
   "codemirror_mode": {
    "name": "ipython",
    "version": 2
   },
   "file_extension": ".py",
   "mimetype": "text/x-python",
   "name": "python",
   "nbconvert_exporter": "python",
   "pygments_lexer": "ipython2",
   "version": "2.7.14"
  }
 },
 "nbformat": 4,
 "nbformat_minor": 2
}
