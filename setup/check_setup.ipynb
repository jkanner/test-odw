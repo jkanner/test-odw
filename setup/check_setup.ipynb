{
 "cells": [
  {
   "cell_type": "markdown",
   "metadata": {},
   "source": [
    "# Check Setup for Open Data Workshop\n",
    "\n",
    "This notebook will check for the following packages:\n",
    "\n",
    "* numpy\n",
    "* matplotlib\n",
    "* gwpy\n",
    "* pycbc\n",
    "* astropy\n",
    "* lal\n",
    "\n",
    "If these are present, the notebook should run with no errors."
   ]
  },
  {
   "cell_type": "code",
   "execution_count": 5,
   "metadata": {},
   "outputs": [
    {
     "name": "stdout",
     "output_type": "stream",
     "text": [
      "Collecting lalsuite\n",
      "  Downloading https://test-files.pythonhosted.org/packages/85/ff/ee4bfe62f4b5544a2873cd67d54daf7c1f7151f7d34fe9ecb349ee8fa2cd/lalsuite-6.48.1.dev20180213-cp27-cp27mu-manylinux1_x86_64.whl (41.6MB)\n",
      "\u001b[K    100% |████████████████████████████████| 41.6MB 24kB/s  eta 0:00:01\n",
      "\u001b[?25hRequirement already satisfied: numpy in /cvmfs/oasis.opensciencegrid.org/ligo/deploy/sw/pycbc/x86_64_rhel_7/virtualenv/pycbc-v1.8.1/lib/python2.7/site-packages (from lalsuite)\n",
      "Installing collected packages: lalsuite\n",
      "\u001b[31mException:\n",
      "Traceback (most recent call last):\n",
      "  File \"/cvmfs/oasis.opensciencegrid.org/ligo/sw/pycbc/x86_64_rhel_7/virtualenv/pycbc-v1.8.1/lib/python2.7/site-packages/pip/basecommand.py\", line 215, in main\n",
      "    status = self.run(options, args)\n",
      "  File \"/cvmfs/oasis.opensciencegrid.org/ligo/sw/pycbc/x86_64_rhel_7/virtualenv/pycbc-v1.8.1/lib/python2.7/site-packages/pip/commands/install.py\", line 342, in run\n",
      "    prefix=options.prefix_path,\n",
      "  File \"/cvmfs/oasis.opensciencegrid.org/ligo/sw/pycbc/x86_64_rhel_7/virtualenv/pycbc-v1.8.1/lib/python2.7/site-packages/pip/req/req_set.py\", line 784, in install\n",
      "    **kwargs\n",
      "  File \"/cvmfs/oasis.opensciencegrid.org/ligo/sw/pycbc/x86_64_rhel_7/virtualenv/pycbc-v1.8.1/lib/python2.7/site-packages/pip/req/req_install.py\", line 851, in install\n",
      "    self.move_wheel_files(self.source_dir, root=root, prefix=prefix)\n",
      "  File \"/cvmfs/oasis.opensciencegrid.org/ligo/sw/pycbc/x86_64_rhel_7/virtualenv/pycbc-v1.8.1/lib/python2.7/site-packages/pip/req/req_install.py\", line 1064, in move_wheel_files\n",
      "    isolated=self.isolated,\n",
      "  File \"/cvmfs/oasis.opensciencegrid.org/ligo/sw/pycbc/x86_64_rhel_7/virtualenv/pycbc-v1.8.1/lib/python2.7/site-packages/pip/wheel.py\", line 345, in move_wheel_files\n",
      "    clobber(source, lib_dir, True)\n",
      "  File \"/cvmfs/oasis.opensciencegrid.org/ligo/sw/pycbc/x86_64_rhel_7/virtualenv/pycbc-v1.8.1/lib/python2.7/site-packages/pip/wheel.py\", line 316, in clobber\n",
      "    ensure_dir(destdir)\n",
      "  File \"/cvmfs/oasis.opensciencegrid.org/ligo/sw/pycbc/x86_64_rhel_7/virtualenv/pycbc-v1.8.1/lib/python2.7/site-packages/pip/utils/__init__.py\", line 83, in ensure_dir\n",
      "    os.makedirs(path)\n",
      "  File \"/cvmfs/oasis.opensciencegrid.org/ligo/sw/pycbc/x86_64_rhel_7/virtualenv/pycbc-v1.8.1/lib64/python2.7/os.py\", line 157, in makedirs\n",
      "    mkdir(name, mode)\n",
      "OSError: [Errno 30] Read-only file system: '/cvmfs/oasis.opensciencegrid.org/ligo/sw/pycbc/x86_64_rhel_7/virtualenv/pycbc-v1.8.1/lib64/python2.7/site-packages/lalsimulation'\u001b[0m\n",
      "Collecting gwpy\n",
      "  Downloading gwpy-0.8.1-py2-none-any.whl (1.2MB)\n",
      "\u001b[K    100% |████████████████████████████████| 1.2MB 575kB/s eta 0:00:01\n",
      "\u001b[?25hRequirement already satisfied: scipy>=0.12.1 in /cvmfs/oasis.opensciencegrid.org/ligo/deploy/sw/pycbc/x86_64_rhel_7/virtualenv/pycbc-v1.8.1/lib/python2.7/site-packages (from gwpy)\n",
      "Requirement already satisfied: astropy>=1.1.1; python_version < \"3\" in /cvmfs/oasis.opensciencegrid.org/ligo/deploy/sw/pycbc/x86_64_rhel_7/virtualenv/pycbc-v1.8.1/lib/python2.7/site-packages (from gwpy)\n",
      "Collecting ligotimegps>=1.2.1 (from gwpy)\n",
      "  Downloading ligotimegps-1.2.1.tar.gz\n",
      "Requirement already satisfied: matplotlib!=2.1.0,!=2.1.1,>=1.2.0 in /cvmfs/oasis.opensciencegrid.org/ligo/deploy/sw/pycbc/x86_64_rhel_7/virtualenv/pycbc-v1.8.1/lib/python2.7/site-packages (from gwpy)\n",
      "Requirement already satisfied: python-dateutil in /cvmfs/oasis.opensciencegrid.org/ligo/deploy/sw/pycbc/x86_64_rhel_7/virtualenv/pycbc-v1.8.1/lib/python2.7/site-packages (from gwpy)\n",
      "Requirement already satisfied: six>=1.5 in /cvmfs/oasis.opensciencegrid.org/ligo/deploy/sw/pycbc/x86_64_rhel_7/virtualenv/pycbc-v1.8.1/lib/python2.7/site-packages (from gwpy)\n",
      "Requirement already satisfied: lscsoft-glue>=1.55.2 in /cvmfs/oasis.opensciencegrid.org/ligo/deploy/sw/pycbc/x86_64_rhel_7/virtualenv/pycbc-v1.8.1/lib/python2.7/site-packages (from gwpy)\n",
      "Requirement already satisfied: numpy>=1.7.1 in /cvmfs/oasis.opensciencegrid.org/ligo/deploy/sw/pycbc/x86_64_rhel_7/virtualenv/pycbc-v1.8.1/lib/python2.7/site-packages (from gwpy)\n",
      "Requirement already satisfied: pytest>=2.8 in /cvmfs/oasis.opensciencegrid.org/ligo/deploy/sw/pycbc/x86_64_rhel_7/virtualenv/pycbc-v1.8.1/lib/python2.7/site-packages (from astropy>=1.1.1; python_version < \"3\"->gwpy)\n",
      "Requirement already satisfied: pytz in /cvmfs/oasis.opensciencegrid.org/ligo/deploy/sw/pycbc/x86_64_rhel_7/virtualenv/pycbc-v1.8.1/lib/python2.7/site-packages (from matplotlib!=2.1.0,!=2.1.1,>=1.2.0->gwpy)\n",
      "Requirement already satisfied: pyparsing!=2.0.0,!=2.0.4,!=2.1.2,>=1.5.6 in /cvmfs/oasis.opensciencegrid.org/ligo/deploy/sw/pycbc/x86_64_rhel_7/virtualenv/pycbc-v1.8.1/lib/python2.7/site-packages (from matplotlib!=2.1.0,!=2.1.1,>=1.2.0->gwpy)\n",
      "Requirement already satisfied: cycler in /cvmfs/oasis.opensciencegrid.org/ligo/deploy/sw/pycbc/x86_64_rhel_7/virtualenv/pycbc-v1.8.1/lib/python2.7/site-packages (from matplotlib!=2.1.0,!=2.1.1,>=1.2.0->gwpy)\n",
      "Requirement already satisfied: pyOpenSSL in /cvmfs/oasis.opensciencegrid.org/ligo/deploy/sw/pycbc/x86_64_rhel_7/virtualenv/pycbc-v1.8.1/lib/python2.7/site-packages (from lscsoft-glue>=1.55.2->gwpy)\n",
      "Requirement already satisfied: py>=1.4.33 in /cvmfs/oasis.opensciencegrid.org/ligo/deploy/sw/pycbc/x86_64_rhel_7/virtualenv/pycbc-v1.8.1/lib/python2.7/site-packages (from pytest>=2.8->astropy>=1.1.1; python_version < \"3\"->gwpy)\n",
      "Requirement already satisfied: setuptools in /cvmfs/oasis.opensciencegrid.org/ligo/deploy/sw/pycbc/x86_64_rhel_7/virtualenv/pycbc-v1.8.1/lib/python2.7/site-packages (from pytest>=2.8->astropy>=1.1.1; python_version < \"3\"->gwpy)\n",
      "Building wheels for collected packages: ligotimegps\n",
      "  Running setup.py bdist_wheel for ligotimegps ... \u001b[?25ldone\n",
      "\u001b[?25h  Stored in directory: /home/jkanner/cvmfs-pycbc-v1.8.1/.cache/pip/wheels/ae/cb/c0/e7a0212904e124133a037fd31d2e1777c7af2ad94c14057f04\n",
      "Successfully built ligotimegps\n",
      "Installing collected packages: ligotimegps, gwpy\n",
      "\u001b[31mException:\n",
      "Traceback (most recent call last):\n",
      "  File \"/cvmfs/oasis.opensciencegrid.org/ligo/sw/pycbc/x86_64_rhel_7/virtualenv/pycbc-v1.8.1/lib/python2.7/site-packages/pip/basecommand.py\", line 215, in main\n",
      "    status = self.run(options, args)\n",
      "  File \"/cvmfs/oasis.opensciencegrid.org/ligo/sw/pycbc/x86_64_rhel_7/virtualenv/pycbc-v1.8.1/lib/python2.7/site-packages/pip/commands/install.py\", line 342, in run\n",
      "    prefix=options.prefix_path,\n",
      "  File \"/cvmfs/oasis.opensciencegrid.org/ligo/sw/pycbc/x86_64_rhel_7/virtualenv/pycbc-v1.8.1/lib/python2.7/site-packages/pip/req/req_set.py\", line 784, in install\n",
      "    **kwargs\n",
      "  File \"/cvmfs/oasis.opensciencegrid.org/ligo/sw/pycbc/x86_64_rhel_7/virtualenv/pycbc-v1.8.1/lib/python2.7/site-packages/pip/req/req_install.py\", line 851, in install\n",
      "    self.move_wheel_files(self.source_dir, root=root, prefix=prefix)\n",
      "  File \"/cvmfs/oasis.opensciencegrid.org/ligo/sw/pycbc/x86_64_rhel_7/virtualenv/pycbc-v1.8.1/lib/python2.7/site-packages/pip/req/req_install.py\", line 1064, in move_wheel_files\n",
      "    isolated=self.isolated,\n",
      "  File \"/cvmfs/oasis.opensciencegrid.org/ligo/sw/pycbc/x86_64_rhel_7/virtualenv/pycbc-v1.8.1/lib/python2.7/site-packages/pip/wheel.py\", line 345, in move_wheel_files\n",
      "    clobber(source, lib_dir, True)\n",
      "  File \"/cvmfs/oasis.opensciencegrid.org/ligo/sw/pycbc/x86_64_rhel_7/virtualenv/pycbc-v1.8.1/lib/python2.7/site-packages/pip/wheel.py\", line 316, in clobber\n",
      "    ensure_dir(destdir)\n",
      "  File \"/cvmfs/oasis.opensciencegrid.org/ligo/sw/pycbc/x86_64_rhel_7/virtualenv/pycbc-v1.8.1/lib/python2.7/site-packages/pip/utils/__init__.py\", line 83, in ensure_dir\n",
      "    os.makedirs(path)\n",
      "  File \"/cvmfs/oasis.opensciencegrid.org/ligo/sw/pycbc/x86_64_rhel_7/virtualenv/pycbc-v1.8.1/lib64/python2.7/os.py\", line 157, in makedirs\n",
      "    mkdir(name, mode)\n",
      "OSError: [Errno 30] Read-only file system: '/cvmfs/oasis.opensciencegrid.org/ligo/sw/pycbc/x86_64_rhel_7/virtualenv/pycbc-v1.8.1/lib/python2.7/site-packages/ligotimegps-1.2.1.dist-info'\u001b[0m\n",
      "Requirement already satisfied: astropy in /cvmfs/oasis.opensciencegrid.org/ligo/deploy/sw/pycbc/x86_64_rhel_7/virtualenv/pycbc-v1.8.1/lib/python2.7/site-packages\n",
      "Requirement already satisfied: numpy>=1.9.0 in /cvmfs/oasis.opensciencegrid.org/ligo/deploy/sw/pycbc/x86_64_rhel_7/virtualenv/pycbc-v1.8.1/lib/python2.7/site-packages (from astropy)\n",
      "Requirement already satisfied: pytest>=2.8 in /cvmfs/oasis.opensciencegrid.org/ligo/deploy/sw/pycbc/x86_64_rhel_7/virtualenv/pycbc-v1.8.1/lib/python2.7/site-packages (from astropy)\n"
     ]
    },
    {
     "name": "stdout",
     "output_type": "stream",
     "text": [
      "Requirement already satisfied: py>=1.4.33 in /cvmfs/oasis.opensciencegrid.org/ligo/deploy/sw/pycbc/x86_64_rhel_7/virtualenv/pycbc-v1.8.1/lib/python2.7/site-packages (from pytest>=2.8->astropy)\r\n",
      "Requirement already satisfied: setuptools in /cvmfs/oasis.opensciencegrid.org/ligo/deploy/sw/pycbc/x86_64_rhel_7/virtualenv/pycbc-v1.8.1/lib/python2.7/site-packages (from pytest>=2.8->astropy)\r\n"
     ]
    }
   ],
   "source": [
    "# -- If needed: Install some packages right now.\n",
    "\n",
    "!pip install --extra-index-url https://test.pypi.org/simple/ lalsuite\n",
    "!pip install gwpy\n",
    "!pip install astropy"
   ]
  },
  {
   "cell_type": "code",
   "execution_count": 6,
   "metadata": {},
   "outputs": [
    {
     "ename": "ImportError",
     "evalue": "No module named gwpy",
     "output_type": "error",
     "traceback": [
      "\u001b[0;31m\u001b[0m",
      "\u001b[0;31mImportError\u001b[0mTraceback (most recent call last)",
      "\u001b[0;32m<ipython-input-6-ef867f518259>\u001b[0m in \u001b[0;36m<module>\u001b[0;34m()\u001b[0m\n\u001b[1;32m      3\u001b[0m \u001b[0;32mimport\u001b[0m \u001b[0mlal\u001b[0m\u001b[0;34m\u001b[0m\u001b[0m\n\u001b[1;32m      4\u001b[0m \u001b[0;32mimport\u001b[0m \u001b[0mlal\u001b[0m\u001b[0;34m.\u001b[0m\u001b[0mutils\u001b[0m\u001b[0;34m\u001b[0m\u001b[0m\n\u001b[0;32m----> 5\u001b[0;31m \u001b[0;32mimport\u001b[0m \u001b[0mgwpy\u001b[0m\u001b[0;34m\u001b[0m\u001b[0m\n\u001b[0m\u001b[1;32m      6\u001b[0m \u001b[0;32mimport\u001b[0m \u001b[0mastropy\u001b[0m\u001b[0;34m\u001b[0m\u001b[0m\n",
      "\u001b[0;31mImportError\u001b[0m: No module named gwpy"
     ]
    }
   ],
   "source": [
    "import numpy\n",
    "import matplotlib\n",
    "import lal\n",
    "import lal.utils\n",
    "import gwpy\n",
    "import astropy"
   ]
  },
  {
   "cell_type": "code",
   "execution_count": null,
   "metadata": {},
   "outputs": [],
   "source": []
  }
 ],
 "metadata": {
  "kernelspec": {
   "display_name": "PyCBC",
   "language": "python",
   "name": "pycbc"
  },
  "language_info": {
   "codemirror_mode": {
    "name": "ipython",
    "version": 2
   },
   "file_extension": ".py",
   "mimetype": "text/x-python",
   "name": "python",
   "nbconvert_exporter": "python",
   "pygments_lexer": "ipython2",
   "version": "2.7.5"
  }
 },
 "nbformat": 4,
 "nbformat_minor": 2
}
