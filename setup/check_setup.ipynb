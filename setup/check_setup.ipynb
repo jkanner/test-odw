{
 "cells": [
  {
   "cell_type": "markdown",
   "metadata": {},
   "source": [
    "# Check Setup for Open Data Workshop\n",
    "\n",
    "This notebook will check for the following packages:\n",
    "\n",
    "* numpy\n",
    "* matplotlib\n",
    "* gwpy\n",
    "* pycbc\n",
    "* astropy\n",
    "* lal\n",
    "\n",
    "If these are present, the notebook should run with no errors."
   ]
  },
  {
   "cell_type": "code",
   "execution_count": 1,
   "metadata": {},
   "outputs": [],
   "source": [
    "# -- If needed: Install some packages right now.\n",
    "\n",
    "#!pip install --extra-index-url https://test.pypi.org/simple/ lalsuite\n",
    "#!pip install gwpy\n",
    "#!pip install astropy"
   ]
  },
  {
   "cell_type": "code",
   "execution_count": 2,
   "metadata": {},
   "outputs": [],
   "source": [
    "import numpy\n",
    "import matplotlib\n",
    "import lal\n",
    "import lal.utils\n",
    "import gwpy\n",
    "import astropy"
   ]
  }
 ],
 "metadata": {
  "kernelspec": {
   "display_name": "Python 2",
   "language": "python",
   "name": "python2"
  },
  "language_info": {
   "codemirror_mode": {
    "name": "ipython",
    "version": 2
   },
   "file_extension": ".py",
   "mimetype": "text/x-python",
   "name": "python",
   "nbconvert_exporter": "python",
   "pygments_lexer": "ipython2",
   "version": "2.7.14"
  }
 },
 "nbformat": 4,
 "nbformat_minor": 2
}
