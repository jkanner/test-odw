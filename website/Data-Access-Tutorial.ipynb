{
 "cells": [
  {
   "cell_type": "markdown",
   "metadata": {},
   "source": [
    "# Data Access Tutorial\n",
    "\n",
    "This tutorial will show the basics of finding, downloading, and loading data using the LIGO/Virgo Open Science Center web site"
   ]
  },
  {
   "cell_type": "markdown",
   "metadata": {},
   "source": [
    "## Find an O1 data file\n",
    "\n",
    "Start by trying to find an O1 data file.\n",
    "\n",
    "1. Start at losc.ligo.org/data\n",
    "1. Under \"O1 data release\", click the icon for \"Data\" (https://losc.ligo.org/archive/O1/)\n",
    "1. Select the H1 detector, and click \"continue\"\n",
    "1. Find the URL for the H1 data that starts at time 1126076416\n",
    "1. Click the link for HDF5 to download the file"
   ]
  },
  {
   "cell_type": "markdown",
   "metadata": {},
   "source": [
    "#### Check Questions:\n",
    "\n",
    "1. Copy and paste URL for H1 data starting with time 1126076416:"
   ]
  },
  {
   "cell_type": "markdown",
   "metadata": {},
   "source": [
    "## Find an O1 data quality segment list\n",
    "\n",
    "1. You can read about O1 data quality segments at https://losc.ligo.org/O1/\n",
    "1. Notice the difference between CAT 1 and CAT 2 segment lists\n",
    "1. Navigate to the Timeline Query Form at https://losc.ligo.org/timeline/query/O1/\n",
    "1. Select a segment list for H1, CBC CAT 2\n",
    "1. You can see how to read a segment list here: https://losc.ligo.org/segments/"
   ]
  },
  {
   "cell_type": "markdown",
   "metadata": {},
   "source": [
    "#### Check Questions:\n",
    "\n",
    "1. Explain the difference between CAT 1 and CAT 2 segment lists:\n",
    "1. How long is the first segment of O1, H1 data that passes CAT 2?"
   ]
  },
  {
   "cell_type": "markdown",
   "metadata": {
    "collapsed": true
   },
   "source": [
    "## Import some useful python modules"
   ]
  },
  {
   "cell_type": "code",
   "execution_count": 1,
   "metadata": {},
   "outputs": [],
   "source": [
    "# Standard python numerical analysis imports:\n",
    "import numpy as np\n",
    "from scipy import signal\n",
    "from scipy.interpolate import interp1d\n",
    "from scipy.signal import butter, filtfilt, iirdesign, zpk2tf, freqz\n",
    "import h5py\n",
    "import json\n",
    "import urllib2\n",
    "\n",
    "# the IPython magic below must be commented out in the .py file, since it doesn't work there.\n",
    "%matplotlib inline\n",
    "%config InlineBackend.figure_format = 'retina'\n",
    "import matplotlib.pyplot as plt\n",
    "import matplotlib.mlab as mlab\n",
    "\n",
    "def download(url):\n",
    "    filename = url.split('/')[-1]\n",
    "    print('Downloading ' + url )\n",
    "    r = urllib2.urlopen(url).read()\n",
    "    f = open(filename, 'w')   # write it to the right filename\n",
    "    f.write(r)\n",
    "    f.close()\n",
    "    print(\"File download complete\")"
   ]
  },
  {
   "cell_type": "markdown",
   "metadata": {
    "collapsed": true
   },
   "source": [
    "## Download an HDF5 data file"
   ]
  },
  {
   "cell_type": "code",
   "execution_count": 2,
   "metadata": {},
   "outputs": [
    {
     "name": "stdout",
     "output_type": "stream",
     "text": [
      "Downloading https://losc.ligo.org/archive/data/O1/1125122048/H-H1_LOSC_4_V1-1126076416-4096.hdf5\n",
      "File download complete\n"
     ]
    }
   ],
   "source": [
    "# -- Use the URL for a data file you found above\n",
    "url = 'XXX'\n",
    "url = 'https://losc.ligo.org/archive/data/O1/1125122048/H-H1_LOSC_4_V1-1126076416-4096.hdf5'\n",
    "filename = url.split('/')[-1]\n",
    "download(url)"
   ]
  },
  {
   "cell_type": "markdown",
   "metadata": {},
   "source": [
    "## Plot a short time series\n",
    "\n",
    "In the code below:\n",
    "1. Use the `readligo.loaddata()` method to load a time vector and strain vector from the data file\n",
    " 1. *Hint: See how to use the `loaddata()` method here: https://losc.ligo.org/tutorial04/*\n",
    "1. Plot strain as a function of time for 1000 samples \n",
    " 1. *Hint: Example code at bottom of https://losc.ligo.org/tutorial02/*"
   ]
  },
  {
   "cell_type": "code",
   "execution_count": 3,
   "metadata": {},
   "outputs": [
    {
     "name": "stdout",
     "output_type": "stream",
     "text": [
      "Downloading https://losc.ligo.org/s/sample_code/readligo.py\n",
      "File download complete\n"
     ]
    }
   ],
   "source": [
    "download('https://losc.ligo.org/s/sample_code/readligo.py')\n",
    "import readligo as rl\n",
    "\n",
    "# -- Use the loaddata() method here to load strain data\n",
    "\n",
    "# -- Plot the first 1000 samples of strain vs. time here\n"
   ]
  },
  {
   "cell_type": "markdown",
   "metadata": {},
   "source": [
    "## Make a PSD\n",
    "\n",
    "LIGO data has noise that is strongly frequency dependent.  \n",
    "\n",
    "1. Use the space below to make a PSD of 128 seconds of LIGO data\n",
    " 1. Hint: See examples: https://losc.ligo.org/plot_gallery/"
   ]
  },
  {
   "cell_type": "code",
   "execution_count": 4,
   "metadata": {},
   "outputs": [],
   "source": [
    "#-- Plot a PSD with 128 seconds of data "
   ]
  },
  {
   "cell_type": "markdown",
   "metadata": {},
   "source": [
    "#### Check Questions\n",
    "\n",
    "1. What are the strongest line features in the PSD above?\n",
    " 1. Hint: See notes on O1 spectral lines: https://losc.ligo.org/o1speclines/\n",
    "1. What is the most sensitive frequency band for LIGO?\n",
    "1. What is the ratio of noise power at 20 Hz compared with 100 Hz?\n",
    "1. What are the main broad-band noise compentents at low-frequency (f<50 Hz) and high-frequency (f>300 Hz).\n"
   ]
  },
  {
   "cell_type": "markdown",
   "metadata": {},
   "source": [
    "## Whiten GW150914\n",
    "\n",
    "1. Download a data file that contains the data for GW150914\n",
    " 1. Hint: GPS 1126259462.4\n",
    "1. Whiten and band-pass the data\n",
    " 1. Hint: See the Quickview tutorial: https://github.com/losc-tutorial/quickview/blob/master/index.ipynb\n",
    "1. Plot the whitened, band-passed time series.  Can you see the signal?"
   ]
  },
  {
   "cell_type": "code",
   "execution_count": 6,
   "metadata": {},
   "outputs": [],
   "source": [
    "#-- Download a data file containing GW150914 \n",
    "\n",
    "#-- wWhiten and band-pass GW150914\n",
    "#-- See example in Quickview notebook:  https://github.com/losc-tutorial/quickview/blob/master/index.ipynb\n",
    "\n",
    "#-- Plot the whitened time series"
   ]
  },
  {
   "cell_type": "markdown",
   "metadata": {},
   "source": [
    "## Find and plot a loud O1 hardware injection\n",
    "\n",
    "Hardware injections are simulated signals added to LIGO data.\n",
    "\n",
    "1. Find the time of an O1, CBC hardware injection with SNR > 40\n",
    " 1. Hint: See O1 hardware injection page: https://losc.ligo.org/o1_inj/\n",
    "1. Download, whiten, band-pass, and plot the hardware injection, as above "
   ]
  },
  {
   "cell_type": "code",
   "execution_count": null,
   "metadata": {},
   "outputs": [],
   "source": [
    "# -- Download a file containing a loud CBC hardware injection\n",
    "# See https://losc.ligo.org/o1_inj/\n",
    "\n",
    "# Whiten and band-pass data \n",
    "# See example: https://github.com/losc-tutorial/quickview/blob/master/index.ipynb\n",
    "\n",
    "# -- Plot the whitened time-series "
   ]
  }
 ],
 "metadata": {
  "kernelspec": {
   "display_name": "Python 2",
   "language": "python",
   "name": "python2"
  },
  "language_info": {
   "codemirror_mode": {
    "name": "ipython",
    "version": 2
   },
   "file_extension": ".py",
   "mimetype": "text/x-python",
   "name": "python",
   "nbconvert_exporter": "python",
   "pygments_lexer": "ipython2",
   "version": "2.7.14"
  }
 },
 "nbformat": 4,
 "nbformat_minor": 1
}
